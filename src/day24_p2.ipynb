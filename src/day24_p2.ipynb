{
 "cells": [
  {
   "cell_type": "code",
   "execution_count": 1,
   "id": "4af725af-edfd-41ae-a5be-4eaa6f34fe19",
   "metadata": {},
   "outputs": [],
   "source": [
    "%display latex"
   ]
  },
  {
   "cell_type": "code",
   "execution_count": 2,
   "id": "9e6c08dc-a319-4a43-a283-c3e7c4b66ccf",
   "metadata": {},
   "outputs": [],
   "source": [
    "# Output from Rust\n",
    "x1 = 233796913851006\n",
    "y1 = 262774170759556\n",
    "z1 = 265925724673108\n",
    "vx1 = 54\n",
    "vy1 = 10\n",
    "vz1 = 23\n",
    "x2 = 276006064958748\n",
    "y2 = 296055609314709\n",
    "z2 = 391999646036593\n",
    "vx2 = 14\n",
    "vy2 = 21\n",
    "vz2 = 24\n",
    "x3 = 293483465377495\n",
    "y3 = 295344217447825\n",
    "z3 = 424521127946914\n",
    "vx3 = -5\n",
    "vy3 = 21\n",
    "vz3 = -13"
   ]
  },
  {
   "cell_type": "code",
   "execution_count": 3,
   "id": "248ae340-f8fb-4594-be1f-52bd1c87bf93",
   "metadata": {},
   "outputs": [],
   "source": [
    "def lineequation(i, mi):\n",
    "    eq = vector([globals()[f\"x{i}\"], globals()[f\"y{i}\"], globals()[f\"z{i}\"]]) + var(f\"m{mi}\") * vector([globals()[f\"vx{i}\"], globals()[f\"vy{i}\"], globals()[f\"vz{i}\"]])\n",
    "    assume(var(f\"m{mi}\") > 0)\n",
    "    assume(var(f\"m{mi}\"), \"real\")\n",
    "    return eq"
   ]
  },
  {
   "cell_type": "code",
   "execution_count": 4,
   "id": "8395f1ce",
   "metadata": {},
   "outputs": [],
   "source": [
    "def lineequation_gen(i, mi):\n",
    "    eq = vector([var(f\"x{i}\"), var(f\"y{i}\"), var(f\"z{i}\")]) + var(f\"m{mi}\") * vector([var(f\"vx{i}\"), var(f\"vy{i}\"), var(f\"vz{i}\")])\n",
    "    assume(var(f\"m{mi}\") > 0)\n",
    "    for n in (\"x\", \"y\", \"z\", \"vx\", \"vy\", \"vz\"):\n",
    "        assume(var(f\"{n}{i}\"), \"real\")\n",
    "    assume(var(f\"m{mi}\"), \"real\")\n",
    "    return eq"
   ]
  },
  {
   "cell_type": "code",
   "execution_count": 5,
   "id": "50d21de4",
   "metadata": {},
   "outputs": [
    {
     "data": {
      "text/html": [
       "<html>\\(\\displaystyle \\left[\\left(54 \\, m_{1} + 233796913851006,\\,10 \\, m_{1} + 262774170759556,\\,23 \\, m_{1} + 265925724673108\\right), \\left(14 \\, m_{2} + 276006064958748,\\,21 \\, m_{2} + 296055609314709,\\,24 \\, m_{2} + 391999646036593\\right), \\left(-5 \\, m_{3} + 293483465377495,\\,21 \\, m_{3} + 295344217447825,\\,-13 \\, m_{3} + 424521127946914\\right)\\right]\\)</html>"
      ],
      "text/latex": [
       "$\\displaystyle \\left[\\left(54 \\, m_{1} + 233796913851006,\\,10 \\, m_{1} + 262774170759556,\\,23 \\, m_{1} + 265925724673108\\right), \\left(14 \\, m_{2} + 276006064958748,\\,21 \\, m_{2} + 296055609314709,\\,24 \\, m_{2} + 391999646036593\\right), \\left(-5 \\, m_{3} + 293483465377495,\\,21 \\, m_{3} + 295344217447825,\\,-13 \\, m_{3} + 424521127946914\\right)\\right]$"
      ],
      "text/plain": [
       "[(54*m1 + 233796913851006, 10*m1 + 262774170759556, 23*m1 + 265925724673108),\n",
       " (14*m2 + 276006064958748, 21*m2 + 296055609314709, 24*m2 + 391999646036593),\n",
       " (-5*m3 + 293483465377495, 21*m3 + 295344217447825, -13*m3 + 424521127946914)]"
      ]
     },
     "execution_count": 5,
     "metadata": {},
     "output_type": "execute_result"
    }
   ],
   "source": [
    "g = [lineequation(i, i) for i in range(1, 4)]\n",
    "g"
   ]
  },
  {
   "cell_type": "code",
   "execution_count": 6,
   "id": "2ac6d5e9-2088-4373-be33-dc5cfab8be34",
   "metadata": {},
   "outputs": [
    {
     "data": {
      "text/html": [
       "<html>\\(\\displaystyle \\left[\\left(m_{1} \\mathit{vx}_{0} + x_{0},\\,m_{1} \\mathit{vy}_{0} + y_{0},\\,m_{1} \\mathit{vz}_{0} + z_{0}\\right), \\left(m_{2} \\mathit{vx}_{0} + x_{0},\\,m_{2} \\mathit{vy}_{0} + y_{0},\\,m_{2} \\mathit{vz}_{0} + z_{0}\\right), \\left(m_{3} \\mathit{vx}_{0} + x_{0},\\,m_{3} \\mathit{vy}_{0} + y_{0},\\,m_{3} \\mathit{vz}_{0} + z_{0}\\right)\\right]\\)</html>"
      ],
      "text/latex": [
       "$\\displaystyle \\left[\\left(m_{1} \\mathit{vx}_{0} + x_{0},\\,m_{1} \\mathit{vy}_{0} + y_{0},\\,m_{1} \\mathit{vz}_{0} + z_{0}\\right), \\left(m_{2} \\mathit{vx}_{0} + x_{0},\\,m_{2} \\mathit{vy}_{0} + y_{0},\\,m_{2} \\mathit{vz}_{0} + z_{0}\\right), \\left(m_{3} \\mathit{vx}_{0} + x_{0},\\,m_{3} \\mathit{vy}_{0} + y_{0},\\,m_{3} \\mathit{vz}_{0} + z_{0}\\right)\\right]$"
      ],
      "text/plain": [
       "[(m1*vx0 + x0, m1*vy0 + y0, m1*vz0 + z0),\n",
       " (m2*vx0 + x0, m2*vy0 + y0, m2*vz0 + z0),\n",
       " (m3*vx0 + x0, m3*vy0 + y0, m3*vz0 + z0)]"
      ]
     },
     "execution_count": 6,
     "metadata": {},
     "output_type": "execute_result"
    }
   ],
   "source": [
    "s = [lineequation_gen(0, i) for i in range(1, 4)]\n",
    "s"
   ]
  },
  {
   "cell_type": "code",
   "execution_count": 7,
   "id": "47078b21-933e-4113-9f74-46c147336736",
   "metadata": {},
   "outputs": [
    {
     "data": {
      "text/html": [
       "<html>\\(\\displaystyle \\left[m_{1} > 0, \\verb|m1|\\verb| |\\verb|is|\\verb| |\\verb|real|, m_{2} > 0, \\verb|m2|\\verb| |\\verb|is|\\verb| |\\verb|real|, m_{3} > 0, \\verb|m3|\\verb| |\\verb|is|\\verb| |\\verb|real|, \\verb|x0|\\verb| |\\verb|is|\\verb| |\\verb|real|, \\verb|y0|\\verb| |\\verb|is|\\verb| |\\verb|real|, \\verb|z0|\\verb| |\\verb|is|\\verb| |\\verb|real|, \\verb|vx0|\\verb| |\\verb|is|\\verb| |\\verb|real|, \\verb|vy0|\\verb| |\\verb|is|\\verb| |\\verb|real|, \\verb|vz0|\\verb| |\\verb|is|\\verb| |\\verb|real|\\right]\\)</html>"
      ],
      "text/latex": [
       "$\\displaystyle \\left[m_{1} > 0, \\verb|m1|\\verb| |\\verb|is|\\verb| |\\verb|real|, m_{2} > 0, \\verb|m2|\\verb| |\\verb|is|\\verb| |\\verb|real|, m_{3} > 0, \\verb|m3|\\verb| |\\verb|is|\\verb| |\\verb|real|, \\verb|x0|\\verb| |\\verb|is|\\verb| |\\verb|real|, \\verb|y0|\\verb| |\\verb|is|\\verb| |\\verb|real|, \\verb|z0|\\verb| |\\verb|is|\\verb| |\\verb|real|, \\verb|vx0|\\verb| |\\verb|is|\\verb| |\\verb|real|, \\verb|vy0|\\verb| |\\verb|is|\\verb| |\\verb|real|, \\verb|vz0|\\verb| |\\verb|is|\\verb| |\\verb|real|\\right]$"
      ],
      "text/plain": [
       "[m1 > 0,\n",
       " m1 is real,\n",
       " m2 > 0,\n",
       " m2 is real,\n",
       " m3 > 0,\n",
       " m3 is real,\n",
       " x0 is real,\n",
       " y0 is real,\n",
       " z0 is real,\n",
       " vx0 is real,\n",
       " vy0 is real,\n",
       " vz0 is real]"
      ]
     },
     "execution_count": 7,
     "metadata": {},
     "output_type": "execute_result"
    }
   ],
   "source": [
    "assumptions()"
   ]
  },
  {
   "cell_type": "code",
   "execution_count": 8,
   "id": "1beff47c-c902-4cbc-8811-04224c0bc24a",
   "metadata": {},
   "outputs": [],
   "source": [
    "def veceq(v1, v2):\n",
    "    return [v1[i] == v2[i] for i in range(0, 3)]"
   ]
  },
  {
   "cell_type": "code",
   "execution_count": 9,
   "id": "9ac359ad-8a57-4618-b8d6-01a68c8223c7",
   "metadata": {},
   "outputs": [],
   "source": [
    "solution = solve([*veceq(s[0], g[0]), *veceq(s[1], g[1]), *veceq(s[2], g[2])], [x0, y0, z0, vx0, vy0, vz0, m1, m2, m3], solution_dict=True)"
   ]
  },
  {
   "cell_type": "code",
   "execution_count": 10,
   "id": "babef6ee-442f-4f28-a7cd-2de37009798e",
   "metadata": {},
   "outputs": [
    {
     "data": {
      "text/html": [
       "<html>\\(\\displaystyle \\left\\{x_{0} : 229429688799267, y_{0} : 217160931330282, z_{0} : 133453231437025, \\mathit{vx}_{0} : 63, \\mathit{vy}_{0} : 104, \\mathit{vz}_{0} : 296, m_{1} : 485247227971, m_{2} : 950538288969, m_{3} : 941967302621\\right\\}\\)</html>"
      ],
      "text/latex": [
       "$\\displaystyle \\left\\{x_{0} : 229429688799267, y_{0} : 217160931330282, z_{0} : 133453231437025, \\mathit{vx}_{0} : 63, \\mathit{vy}_{0} : 104, \\mathit{vz}_{0} : 296, m_{1} : 485247227971, m_{2} : 950538288969, m_{3} : 941967302621\\right\\}$"
      ],
      "text/plain": [
       "{x0: 229429688799267,\n",
       " y0: 217160931330282,\n",
       " z0: 133453231437025,\n",
       " vx0: 63,\n",
       " vy0: 104,\n",
       " vz0: 296,\n",
       " m1: 485247227971,\n",
       " m2: 950538288969,\n",
       " m3: 941967302621}"
      ]
     },
     "execution_count": 10,
     "metadata": {},
     "output_type": "execute_result"
    }
   ],
   "source": [
    "solution[0]"
   ]
  },
  {
   "cell_type": "code",
   "execution_count": 11,
   "id": "8b2ec1eb-2024-4d06-a5f5-499ead6930a9",
   "metadata": {},
   "outputs": [
    {
     "data": {
      "text/html": [
       "<html>\\(\\displaystyle 580043851566574\\)</html>"
      ],
      "text/latex": [
       "$\\displaystyle 580043851566574$"
      ],
      "text/plain": [
       "580043851566574"
      ]
     },
     "execution_count": 11,
     "metadata": {},
     "output_type": "execute_result"
    }
   ],
   "source": [
    "solution[0][x0]+solution[0][y0]+solution[0][z0]"
   ]
  }
 ],
 "metadata": {
  "kernelspec": {
   "display_name": "SageMath 10.2",
   "language": "sage",
   "name": "sagemath"
  },
  "language_info": {
   "codemirror_mode": {
    "name": "ipython",
    "version": 3
   },
   "file_extension": ".py",
   "mimetype": "text/x-python",
   "name": "python",
   "nbconvert_exporter": "python",
   "pygments_lexer": "ipython3",
   "version": "3.11.6"
  }
 },
 "nbformat": 4,
 "nbformat_minor": 5
}
